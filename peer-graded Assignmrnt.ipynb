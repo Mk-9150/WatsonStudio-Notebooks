{
 "cells": [
  {
   "cell_type": "markdown",
   "id": "312706c5-e470-4d59-ba78-432f08418ab4",
   "metadata": {
    "pycharm": {
     "name": "#%% md\n"
    }
   },
   "source": [
    "# My Jupyter Notebook on IBM Watson Studio"
   ]
  },
  {
   "cell_type": "markdown",
   "id": "7dc3cb79-1576-4cf9-bb8f-d24254891fe2",
   "metadata": {
    "pycharm": {
     "name": "#%% md\n"
    }
   },
   "source": [
    "My name is **Muthar Ali Moazzam**.\n",
    "\n",
    "I am a student of BSSE at UCP Lahore, Pakistan."
   ]
  },
  {
   "cell_type": "markdown",
   "id": "a4f177ad-ef7f-490f-960c-4254126853d7",
   "metadata": {
    "pycharm": {
     "name": "#%% md\n"
    }
   },
   "source": [
    "### Data Science languages"
   ]
  },
  {
   "cell_type": "markdown",
   "id": "d8df5bd5-cf83-4bb8-a82f-2b8705834a57",
   "metadata": {
    "pycharm": {
     "name": "#%% md\n"
    }
   },
   "source": [
    "1. Python\n",
    "2. Scala\n",
    "3. R\n",
    "4. Java\n",
    "5. SQL"
   ]
  },
  {
   "cell_type": "markdown",
   "id": "caa536ab-f204-4ee7-a49e-8ebf970c1b04",
   "metadata": {
    "pycharm": {
     "name": "#%% md\n"
    }
   },
   "source": [
    "### Data Science libraries"
   ]
  },
  {
   "cell_type": "markdown",
   "id": "b078e7f0-3bac-4f07-b6d5-e56be87bd0ec",
   "metadata": {
    "pycharm": {
     "name": "#%% md\n"
    }
   },
   "source": [
    "1. NumPy\n",
    "2. Pandas\n",
    "3. Matplotlib\n",
    "4. Tensorflow\n",
    "5. Pytorch"
   ]
  },
  {
   "cell_type": "markdown",
   "id": "76b55134-d694-41ba-b220-9ba1c132f663",
   "metadata": {
    "pycharm": {
     "name": "#%% md\n"
    }
   },
   "source": [
    "### Data Science Tools"
   ]
  },
  {
   "cell_type": "markdown",
   "id": "477d5176-85a7-4953-9246-c8225b0bb95a",
   "metadata": {
    "pycharm": {
     "name": "#%% md\n"
    }
   },
   "source": [
    "| Tool No | Name |\n",
    "| --- | --- |\n",
    "| 1 | Jupyter Notebook |\n",
    "| 2 | RStudio |\n",
    "| 3 | GIT / Github |\n",
    "| 4 | Watson Studio |"
   ]
  },
  {
   "cell_type": "markdown",
   "id": "2a1ecc02-d03f-45a8-8c3d-230dcd554623",
   "metadata": {
    "pycharm": {
     "name": "#%% md\n"
    }
   },
   "source": [
    "### Arithmetic Expression Examples."
   ]
  },
  {
   "cell_type": "markdown",
   "id": "c499f848-2e90-4b13-a174-a8f285b4148b",
   "metadata": {
    "pycharm": {
     "name": "#%% md\n"
    }
   },
   "source": [
    "**Addition:**\n",
    "\n",
    "5 + 2 = 7\n",
    "\n",
    "**Subtraction:** \n",
    "\n",
    "5 - 2 = 3\n",
    "\n",
    "**Multiplication:** \n",
    "\n",
    "5 * 2 = 10\n",
    "\n",
    "**Division:**\n",
    "\n",
    "10 / 2 = 5"
   ]
  },
  {
   "cell_type": "markdown",
   "id": "404a0129-ebc8-4d45-b373-a423d0c28694",
   "metadata": {
    "pycharm": {
     "name": "#%% md\n"
    }
   },
   "source": [
    "### Multiply and Add Numbers"
   ]
  },
  {
   "cell_type": "code",
   "execution_count": 1,
   "id": "c94bbd5b-d513-45b2-a8ab-7806d5746efd",
   "metadata": {
    "pycharm": {
     "name": "#%%\n"
    }
   },
   "outputs": [
    {
     "name": "stdout",
     "output_type": "stream",
     "text": [
      "3\n",
      "11\n",
      "7\n"
     ]
    }
   ],
   "source": [
    "i = 1\n",
    "j = 2\n",
    "k = 5\n",
    "print(i + j)\n",
    "print(i + j * k)\n",
    "print((i * j) + k)"
   ]
  },
  {
   "cell_type": "markdown",
   "id": "6cb9e755-9d78-4023-acb8-b1be2677d284",
   "metadata": {
    "pycharm": {
     "name": "#%% md\n"
    }
   },
   "source": [
    "### Minutes to Hours"
   ]
  },
  {
   "cell_type": "code",
   "execution_count": 2,
   "id": "3df62673-c147-485c-ac1e-114da7d30c73",
   "metadata": {
    "pycharm": {
     "name": "#%%\n"
    }
   },
   "outputs": [
    {
     "name": "stdout",
     "output_type": "stream",
     "text": [
      "The number of hours is: 2.0\n"
     ]
    }
   ],
   "source": [
    "minutes = 120\n",
    "hours = minutes / 60\n",
    "print(\"The number of hours is:\", hours)"
   ]
  },
  {
   "cell_type": "markdown",
   "id": "4050e751-7c6b-4a92-877d-dd8c5bcee0be",
   "metadata": {
    "pycharm": {
     "name": "#%% md\n"
    }
   },
   "source": [
    "### Objectives"
   ]
  },
  {
   "cell_type": "markdown",
   "id": "b1eda47d-e42f-4a58-b409-5f80af24f630",
   "metadata": {
    "pycharm": {
     "name": "#%% md\n"
    }
   },
   "source": [
    "1. To analyze and clean the dataset to ensure data quality.\n",
    "2. To perform exploratory data analysis to gain insights into the data.\n",
    "3. To build and evaluate machine learning models to predict the target variable.\n",
    "4. To identify the key factors that affect the target variable and provide recommendations based on the findings.\n",
    "5. To present the results and insights in a clear and concise manner using visualizations and reports."
   ]
  },
  {
   "cell_type": "markdown",
   "id": "f6581102-a475-4272-a57d-8138db837abf",
   "metadata": {
    "pycharm": {
     "name": "#%% md\n"
    }
   },
   "source": [
    "## Author(s)\n",
    "\n",
    "**Muthar Ali Moazzam**"
   ]
  },
  {
   "cell_type": "code",
   "execution_count": null,
   "id": "93d6abf2-9d15-49b0-bc81-800e3c088bfe",
   "metadata": {
    "pycharm": {
     "name": "#%%\n"
    }
   },
   "outputs": [],
   "source": []
  }
 ],
 "metadata": {
  "kernelspec": {
   "display_name": "Python",
   "language": "python",
   "name": "conda-env-python-py"
  },
  "language_info": {
   "codemirror_mode": {
    "name": "ipython",
    "version": 3
   },
   "file_extension": ".py",
   "mimetype": "text/x-python",
   "name": "python",
   "nbconvert_exporter": "python",
   "pygments_lexer": "ipython3",
   "version": "3.7.12"
  }
 },
 "nbformat": 4,
 "nbformat_minor": 5
}